{
  "nbformat": 4,
  "nbformat_minor": 0,
  "metadata": {
    "colab": {
      "name": "Untitled",
      "provenance": [],
      "collapsed_sections": []
    },
    "kernelspec": {
      "name": "python3",
      "display_name": "Python 3"
    },
    "accelerator": "GPU"
  },
  "cells": [
    {
      "cell_type": "code",
      "metadata": {
        "id": "qOP7h9dyS_ZT",
        "cellView": "form"
      },
      "source": [
        "#@title sshd & drive\n",
        "from google.colab import drive\n",
        "drive.mount('/content/drive')\n",
        "\n",
        "#Setup sshd\n",
        "!apt-get install -qq -o=Dpkg::Use-Pty=0 openssh-server pwgen > /dev/null\n",
        "!mkdir -p /var/run/sshd\n",
        "!echo \"PermitRootLogin without-password\" >> /etc/ssh/sshd_config\n",
        "!mkdir -p /root/.ssh\n",
        "!cat gcloud.pub >> /root/.ssh/authorized_keys\n",
        "\n",
        "#Run sshd\n",
        "get_ipython().system_raw('/usr/sbin/sshd -D &')\n",
        "\n",
        "!chmod 400 ./gcloud.pem \n",
        "!apt install bc  # used for math\n",
        "\n",
        "#! echo \"LD_LIBRARY_PATH=/usr/lib64-nvidia\" >> /root/.bashrc\n",
        "#! echo \"export LD_LIBRARY_PATH\" >> /root/.bashrc"
      ],
      "execution_count": null,
      "outputs": []
    },
    {
      "cell_type": "code",
      "metadata": {
        "id": "yR6smqAEEYBD",
        "cellView": "form"
      },
      "source": [
        "#@title remote tunnel\n",
        "public_server = \"35.238.172.110\" #@param {type:\"string\"}\n",
        "\n",
        "!chmod 400 gcloud.pem\n",
        "\n",
        "!ssh -o StrictHostKeyChecking=no -i /content/gcloud.pem -N -vv \\\n",
        "    -R 3022:localhost:22 -R 39152:localhost:49152 \\\n",
        "    daniele.veri.96@$public_server"
      ],
      "execution_count": null,
      "outputs": []
    },
    {
      "cell_type": "code",
      "metadata": {
        "id": "cAxUP9qN_0_M",
        "cellView": "form"
      },
      "source": [
        "#@title ngrok\n",
        "\n",
        "#Download ngrok\n",
        "! wget -q -c -nc https://bin.equinox.io/c/4VmDzA7iaHb/ngrok-stable-linux-amd64.zip\n",
        "! unzip -qq -n ngrok-stable-linux-amd64.zip\n",
        "\n",
        "#Create ngrok tunnel\n",
        "get_ipython().system_raw(f'./ngrok start -config ./drive/MyDrive/ngrok-config.yaml ssh nvidia-prof &')\n",
        "#Get public address\n",
        "! curl -s http://localhost:4040/api/tunnels"
      ],
      "execution_count": null,
      "outputs": []
    }
  ]
}